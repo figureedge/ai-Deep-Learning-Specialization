{
 "cells": [
  {
   "cell_type": "markdown",
   "metadata": {},
   "source": [
    "# Residual Networks\n",
    "\n",
    "Welcome to the second assignment of this week! You will learn how to build very deep convolutional networks, using Residual Networks (ResNets). In theory, very deep networks can represent very complex functions; but in practice, they are hard to train. Residual Networks, introduced by [He et al.](https://arxiv.org/pdf/1512.03385.pdf), allow you to train much deeper networks than were previously practically feasible.\n",
    "\n",
    "**In this assignment, you will:**\n",
    "- Implement the basic building blocks of ResNets. \n",
    "- Put together these building blocks to implement and train a state-of-the-art neural network for image classification. "
   ]
  },
  {
   "cell_type": "markdown",
   "metadata": {},
   "source": [
    "## <font color='darkblue'>Updates</font>\n",
    "\n",
    "#### If you were working on the notebook before this update...\n",
    "* The current notebook is version \"2a\".\n",
    "* You can find your original work saved in the notebook with the previous version name (\"v2\") \n",
    "* To view the file directory, go to the menu \"File->Open\", and this will open a new tab that shows the file directory.\n",
    "\n",
    "#### List of updates\n",
    "* For testing on an image, replaced `preprocess_input(x)` with `x=x/255.0` to normalize the input image in the same way that the model's training data was normalized.\n",
    "* Refers to \"shallower\" layers as those layers closer to the input, and \"deeper\" layers as those closer to the output (Using \"shallower\" layers instead of \"lower\" or \"earlier\").\n",
    "* Added/updated instructions.\n"
   ]
  },
  {
   "cell_type": "markdown",
   "metadata": {},
   "source": [
    "This assignment will be done in Keras. \n",
    "\n",
    "Before jumping into the problem, let's run the cell below to load the required packages."
   ]
  },
  {
   "cell_type": "code",
   "execution_count": 1,
   "metadata": {},
   "outputs": [
    {
     "output_type": "stream",
     "name": "stderr",
     "text": "Using TensorFlow backend.\n"
    }
   ],
   "source": [
    "import numpy as np\n",
    "from keras import layers\n",
    "from keras.layers import Input, Add, Dense, Activation, ZeroPadding2D, BatchNormalization, Flatten, Conv2D, AveragePooling2D, MaxPooling2D, GlobalMaxPooling2D\n",
    "from keras.models import Model, load_model\n",
    "from keras.preprocessing import image\n",
    "from keras.utils import layer_utils\n",
    "from keras.utils.data_utils import get_file\n",
    "from keras.applications.imagenet_utils import preprocess_input\n",
    "\n",
    "import pydot\n",
    "from IPython.display import SVG\n",
    "from keras.utils.vis_utils import model_to_dot\n",
    "from keras.utils import plot_model\n",
    "from resnets_utils import *\n",
    "from keras.initializers import glorot_uniform\n",
    "\n",
    "import scipy.misc\n",
    "from matplotlib.pyplot import imshow\n",
    "%matplotlib inline\n",
    "\n",
    "import keras.backend as K\n",
    "K.set_image_data_format('channels_last')\n",
    "K.set_learning_phase(1)"
   ]
  },
  {
   "cell_type": "markdown",
   "metadata": {},
   "source": [
    "## 1 - The problem of very deep neural networks\n",
    "\n",
    "Last week, you built your first convolutional neural network. In recent years, neural networks have become deeper, with state-of-the-art networks going from just a few layers (e.g., AlexNet) to over a hundred layers.\n",
    "\n",
    "* The main benefit of a very deep network is that it can represent very complex functions. It can also learn features at many different levels of abstraction, from edges (at the shallower layers, closer to the input) to very complex features (at the deeper layers, closer to the output). \n",
    "* However, using a deeper network doesn't always help. A huge barrier to training them is vanishing gradients: very deep networks often have a gradient signal that goes to zero quickly, thus making gradient descent prohibitively slow. \n",
    "* More specifically, during gradient descent, as you backprop from the final layer back to the first layer, you are multiplying by the weight matrix on each step, and thus the gradient can decrease exponentially quickly to zero (or, in rare cases, grow exponentially quickly and \"explode\" to take very large values). \n",
    "* During training, you might therefore see the magnitude (or norm) of the gradient for the shallower layers decrease to zero very rapidly as training proceeds: "
   ]
  },
  {
   "cell_type": "markdown",
   "metadata": {},
   "source": [
    "<img src=\"images/vanishing_grad_kiank.png\" style=\"width:450px;height:220px;\">\n",
    "<caption><center> <u> <font color='purple'> **Figure 1** </u><font color='purple'>  : **Vanishing gradient** <br> The speed of learning decreases very rapidly for the shallower layers as the network trains </center></caption>\n",
    "\n",
    "You are now going to solve this problem by building a Residual Network!"
   ]
  },
  {
   "cell_type": "markdown",
   "metadata": {},
   "source": [
    "## 2 - Building a Residual Network\n",
    "\n",
    "In ResNets, a \"shortcut\" or a \"skip connection\" allows the model to skip layers:  \n",
    "\n",
    "<img src=\"images/skip_connection_kiank.png\" style=\"width:650px;height:200px;\">\n",
    "<caption><center> <u> <font color='purple'> **Figure 2** </u><font color='purple'>  : A ResNet block showing a **skip-connection** <br> </center></caption>\n",
    "\n",
    "The image on the left shows the \"main path\" through the network. The image on the right adds a shortcut to the main path. By stacking these ResNet blocks on top of each other, you can form a very deep network. \n",
    "\n",
    "We also saw in lecture that having ResNet blocks with the shortcut also makes it very easy for one of the blocks to learn an identity function. This means that you can stack on additional ResNet blocks with little risk of harming training set performance.  \n",
    "    \n",
    "(There is also some evidence that the ease of learning an identity function accounts for ResNets' remarkable performance even more so than skip connections helping with vanishing gradients).\n",
    "\n",
    "Two main types of blocks are used in a ResNet, depending mainly on whether the input/output dimensions are same or different. You are going to implement both of them: the \"identity block\" and the \"convolutional block.\""
   ]
  },
  {
   "cell_type": "markdown",
   "metadata": {},
   "source": [
    "### 2.1 - The identity block\n",
    "\n",
    "The identity block is the standard block used in ResNets, and corresponds to the case where the input activation (say $a^{[l]}$) has the same dimension as the output activation (say $a^{[l+2]}$). To flesh out the different steps of what happens in a ResNet's identity block, here is an alternative diagram showing the individual steps:\n",
    "\n",
    "<img src=\"images/idblock2_kiank.png\" style=\"width:650px;height:150px;\">\n",
    "<caption><center> <u> <font color='purple'> **Figure 3** </u><font color='purple'>  : **Identity block.** Skip connection \"skips over\" 2 layers. </center></caption>\n",
    "\n",
    "The upper path is the \"shortcut path.\" The lower path is the \"main path.\" In this diagram, we have also made explicit the CONV2D and ReLU steps in each layer. To speed up training we have also added a BatchNorm step. Don't worry about this being complicated to implement--you'll see that BatchNorm is just one line of code in Keras! \n",
    "\n",
    "In this exercise, you'll actually implement a slightly more powerful version of this identity block, in which the skip connection \"skips over\" 3 hidden layers rather than 2 layers. It looks like this: \n",
    "\n",
    "<img src=\"images/idblock3_kiank.png\" style=\"width:650px;height:150px;\">\n",
    "<caption><center> <u> <font color='purple'> **Figure 4** </u><font color='purple'>  : **Identity block.** Skip connection \"skips over\" 3 layers.</center></caption>"
   ]
  },
  {
   "cell_type": "markdown",
   "metadata": {},
   "source": [
    "Here are the individual steps.\n",
    "\n",
    "First component of main path: \n",
    "- The first CONV2D has $F_1$ filters of shape (1,1) and a stride of (1,1). Its padding is \"valid\" and its name should be `conv_name_base + '2a'`. Use 0 as the seed for the random initialization. \n",
    "- The first BatchNorm is normalizing the 'channels' axis.  Its name should be `bn_name_base + '2a'`.\n",
    "- Then apply the ReLU activation function. This has no name and no hyperparameters. \n",
    "\n",
    "Second component of main path:\n",
    "- The second CONV2D has $F_2$ filters of shape $(f,f)$ and a stride of (1,1). Its padding is \"same\" and its name should be `conv_name_base + '2b'`. Use 0 as the seed for the random initialization. \n",
    "- The second BatchNorm is normalizing the 'channels' axis.  Its name should be `bn_name_base + '2b'`.\n",
    "- Then apply the ReLU activation function. This has no name and no hyperparameters. \n",
    "\n",
    "Third component of main path:\n",
    "- The third CONV2D has $F_3$ filters of shape (1,1) and a stride of (1,1). Its padding is \"valid\" and its name should be `conv_name_base + '2c'`. Use 0 as the seed for the random initialization. \n",
    "- The third BatchNorm is normalizing the 'channels' axis.  Its name should be `bn_name_base + '2c'`. \n",
    "- Note that there is **no** ReLU activation function in this component. \n",
    "\n",
    "Final step: \n",
    "- The `X_shortcut` and the output from the 3rd layer `X` are added together.\n",
    "- **Hint**: The syntax will look something like `Add()([var1,var2])`\n",
    "- Then apply the ReLU activation function. This has no name and no hyperparameters. \n",
    "\n",
    "**Exercise**: Implement the ResNet identity block. We have implemented the first component of the main path. Please read this carefully to make sure you understand what it is doing. You should implement the rest. \n",
    "- To implement the Conv2D step: [Conv2D](https://keras.io/layers/convolutional/#conv2d)\n",
    "- To implement BatchNorm: [BatchNormalization](https://faroit.github.io/keras-docs/1.2.2/layers/normalization/) (axis: Integer, the axis that should be normalized (typically the 'channels' axis))\n",
    "- For the activation, use:  `Activation('relu')(X)`\n",
    "- To add the value passed forward by the shortcut: [Add](https://keras.io/layers/merge/#add)"
   ]
  },
  {
   "cell_type": "code",
   "execution_count": 2,
   "metadata": {
    "collapsed": true
   },
   "outputs": [],
   "source": [
    "# GRADED FUNCTION: identity_block\n",
    "\n",
    "def identity_block(X, f, filters, stage, block):\n",
    "    \"\"\"\n",
    "    Implementation of the identity block as defined in Figure 4\n",
    "    \n",
    "    Arguments:\n",
    "    X -- input tensor of shape (m, n_H_prev, n_W_prev, n_C_prev)\n",
    "    f -- integer, specifying the shape of the middle CONV's window for the main path\n",
    "    filters -- python list of integers, defining the number of filters in the CONV layers of the main path\n",
    "    stage -- integer, used to name the layers, depending on their position in the network\n",
    "    block -- string/character, used to name the layers, depending on their position in the network\n",
    "    \n",
    "    Returns:\n",
    "    X -- output of the identity block, tensor of shape (n_H, n_W, n_C)\n",
    "    \"\"\"\n",
    "    \n",
    "    # defining name basis\n",
    "    conv_name_base = 'res' + str(stage) + block + '_branch'\n",
    "    bn_name_base = 'bn' + str(stage) + block + '_branch'\n",
    "    \n",
    "    # Retrieve Filters\n",
    "    F1, F2, F3 = filters\n",
    "    \n",
    "    # Save the input value. You'll need this later to add back to the main path. \n",
    "    X_shortcut = X\n",
    "    \n",
    "    # First component of main path\n",
    "    X = Conv2D(filters = F1, kernel_size = (1, 1), strides = (1,1), padding = 'valid', name = conv_name_base + '2a', kernel_initializer = glorot_uniform(seed=0))(X)\n",
    "    X = BatchNormalization(axis = 3, name = bn_name_base + '2a')(X)\n",
    "    X = Activation('relu')(X)\n",
    "    \n",
    "\n",
    "    ### START CODE HERE ###\n",
    "    \n",
    "    # Second component of main path (≈3 lines)\n",
    "    X = Conv2D(filters=F2, kernel_size=(f, f), strides=(1, 1), padding='same', name=conv_name_base + '2b', kernel_initializer=glorot_uniform(seed=0))(X)\n",
    "    X = BatchNormalization(axis=3, name=bn_name_base + '2b')(X)\n",
    "    X = Activation('relu')(X)\n",
    "\n",
    "    # Third component of main path (≈2 lines)\n",
    "    X = Conv2D(filters=F3, kernel_size=(1, 1), strides=(1, 1), padding='valid', name=conv_name_base + '2c', kernel_initializer=glorot_uniform(seed=0))(X)\n",
    "    X = BatchNormalization(axis=3, name=bn_name_base + '2c')(X)\n",
    "\n",
    "    # Final step: Add shortcut value to main path, and pass it through a RELU activation (≈2 lines)\n",
    "    X = Add()([X, X_shortcut])\n",
    "    X = Activation('relu')(X)\n",
    "    \n",
    "    ### END CODE HERE ###\n",
    "    \n",
    "    \n",
    "    return X"
   ]
  },
  {
   "cell_type": "code",
   "execution_count": 3,
   "metadata": {},
   "outputs": [
    {
     "output_type": "stream",
     "name": "stdout",
     "text": "WARNING:tensorflow:From C:\\Users\\T7920\\Anaconda3\\envs\\tf-gpu\\lib\\site-packages\\tensorflow_core\\python\\compat\\v2_compat.py:88: disable_resource_variables (from tensorflow.python.ops.variable_scope) is deprecated and will be removed in a future version.\nInstructions for updating:\nnon-resource variables are not supported in the long term\nWARNING:tensorflow:From C:\\Users\\T7920\\Anaconda3\\envs\\tf-gpu\\lib\\site-packages\\tensorflow_core\\python\\ops\\resource_variable_ops.py:1635: calling BaseResourceVariable.__init__ (from tensorflow.python.ops.resource_variable_ops) with constraint is deprecated and will be removed in a future version.\nInstructions for updating:\nIf using Keras pass *_constraint arguments to layers.\nout = [0.94822997 0.         1.1610144  2.747859   0.         1.36677   ]\n"
    }
   ],
   "source": [
    "# disable tf 2.0 so that 1.x attribute can be execute \n",
    "import tensorflow.compat.v1 as tf\n",
    "tf.disable_v2_behavior() \n",
    "tf.reset_default_graph()\n",
    "tf.compat.v1.enable_eager_execution()\n",
    "\n",
    "\n",
    "with tf.Session() as test:\n",
    "    np.random.seed(1)\n",
    "    A_prev = tf.placeholder(\"float\", [3, 4, 4, 6])\n",
    "    X = np.random.randn(3, 4, 4, 6)\n",
    "    A = identity_block(A_prev, f = 2, filters = [2, 4, 6], stage = 1, block = 'a')\n",
    "    test.run(tf.global_variables_initializer())\n",
    "    out = test.run([A], feed_dict={A_prev: X, K.learning_phase(): 0})\n",
    "    print(\"out = \" + str(out[0][1][1][0]))\n",
    "\n",
    ""
   ]
  },
  {
   "cell_type": "markdown",
   "metadata": {},
   "source": [
    "**Expected Output**:\n",
    "\n",
    "<table>\n",
    "    <tr>\n",
    "        <td>\n",
    "            **out**\n",
    "        </td>\n",
    "        <td>\n",
    "           [ 0.94822985  0.          1.16101444  2.747859    0.          1.36677003]\n",
    "        </td>\n",
    "    </tr>\n",
    "\n",
    "</table>"
   ]
  },
  {
   "cell_type": "markdown",
   "metadata": {},
   "source": [
    "## 2.2 - The convolutional block\n",
    "\n",
    "The ResNet \"convolutional block\" is the second block type. You can use this type of block when the input and output dimensions don't match up. The difference with the identity block is that there is a CONV2D layer in the shortcut path: \n",
    "\n",
    "<img src=\"images/convblock_kiank.png\" style=\"width:650px;height:150px;\">\n",
    "<caption><center> <u> <font color='purple'> **Figure 4** </u><font color='purple'>  : **Convolutional block** </center></caption>\n",
    "\n",
    "* The CONV2D layer in the shortcut path is used to resize the input $x$ to a different dimension, so that the dimensions match up in the final addition needed to add the shortcut value back to the main path. (This plays a similar role as the matrix $W_s$ discussed in lecture.) \n",
    "* For example, to reduce the activation dimensions's height and width by a factor of 2, you can use a 1x1 convolution with a stride of 2. \n",
    "* The CONV2D layer on the shortcut path does not use any non-linear activation function. Its main role is to just apply a (learned) linear function that reduces the dimension of the input, so that the dimensions match up for the later addition step. \n",
    "\n",
    "The details of the convolutional block are as follows. \n",
    "\n",
    "First component of main path:\n",
    "- The first CONV2D has $F_1$ filters of shape (1,1) and a stride of (s,s). Its padding is \"valid\" and its name should be `conv_name_base + '2a'`. Use 0 as the `glorot_uniform` seed.\n",
    "- The first BatchNorm is normalizing the 'channels' axis.  Its name should be `bn_name_base + '2a'`.\n",
    "- Then apply the ReLU activation function. This has no name and no hyperparameters. \n",
    "\n",
    "Second component of main path:\n",
    "- The second CONV2D has $F_2$ filters of shape (f,f) and a stride of (1,1). Its padding is \"same\" and it's name should be `conv_name_base + '2b'`.  Use 0 as the `glorot_uniform` seed.\n",
    "- The second BatchNorm is normalizing the 'channels' axis.  Its name should be `bn_name_base + '2b'`.\n",
    "- Then apply the ReLU activation function. This has no name and no hyperparameters. \n",
    "\n",
    "Third component of main path:\n",
    "- The third CONV2D has $F_3$ filters of shape (1,1) and a stride of (1,1). Its padding is \"valid\" and it's name should be `conv_name_base + '2c'`.  Use 0 as the `glorot_uniform` seed.\n",
    "- The third BatchNorm is normalizing the 'channels' axis.  Its name should be `bn_name_base + '2c'`. Note that there is no ReLU activation function in this component. \n",
    "\n",
    "Shortcut path:\n",
    "- The CONV2D has $F_3$ filters of shape (1,1) and a stride of (s,s). Its padding is \"valid\" and its name should be `conv_name_base + '1'`.  Use 0 as the `glorot_uniform` seed.\n",
    "- The BatchNorm is normalizing the 'channels' axis.  Its name should be `bn_name_base + '1'`. \n",
    "\n",
    "Final step: \n",
    "- The shortcut and the main path values are added together.\n",
    "- Then apply the ReLU activation function. This has no name and no hyperparameters. \n",
    "    \n",
    "**Exercise**: Implement the convolutional block. We have implemented the first component of the main path; you should implement the rest. As before, always use 0 as the seed for the random initialization, to ensure consistency with our grader.\n",
    "- [Conv2D](https://keras.io/layers/convolutional/#conv2d)\n",
    "- [BatchNormalization](https://keras.io/layers/normalization/#batchnormalization) (axis: Integer, the axis that should be normalized (typically the features axis))\n",
    "- For the activation, use:  `Activation('relu')(X)`\n",
    "- [Add](https://keras.io/layers/merge/#add)"
   ]
  },
  {
   "cell_type": "code",
   "execution_count": 4,
   "metadata": {
    "collapsed": true
   },
   "outputs": [],
   "source": [
    "# GRADED FUNCTION: convolutional_block\n",
    "\n",
    "def convolutional_block(X, f, filters, stage, block, s = 2):\n",
    "    \"\"\"\n",
    "    Implementation of the convolutional block as defined in Figure 4\n",
    "    \n",
    "    Arguments:\n",
    "    X -- input tensor of shape (m, n_H_prev, n_W_prev, n_C_prev)\n",
    "    f -- integer, specifying the shape of the middle CONV's window for the main path\n",
    "    filters -- python list of integers, defining the number of filters in the CONV layers of the main path\n",
    "    stage -- integer, used to name the layers, depending on their position in the network\n",
    "    block -- string/character, used to name the layers, depending on their position in the network\n",
    "    s -- Integer, specifying the stride to be used\n",
    "    \n",
    "    Returns:\n",
    "    X -- output of the convolutional block, tensor of shape (n_H, n_W, n_C)\n",
    "    \"\"\"\n",
    "    \n",
    "    # defining name basis\n",
    "    conv_name_base = 'res' + str(stage) + block + '_branch'\n",
    "    bn_name_base = 'bn' + str(stage) + block + '_branch'\n",
    "    \n",
    "    # Retrieve Filters\n",
    "    F1, F2, F3 = filters\n",
    "    \n",
    "    # Save the input value\n",
    "    X_shortcut = X\n",
    "\n",
    "\n",
    "    ##### MAIN PATH #####\n",
    "    # First component of main path \n",
    "    X = Conv2D(F1, (1, 1), strides = (s,s), name = conv_name_base + '2a', kernel_initializer = glorot_uniform(seed=0))(X)\n",
    "    X = BatchNormalization(axis = 3, name = bn_name_base + '2a')(X)\n",
    "    X = Activation('relu')(X)\n",
    "    \n",
    "    ### START CODE HERE ###\n",
    "\n",
    "    # Second component of main path (≈3 lines)\n",
    "    X = Conv2D(filters=F2, kernel_size=(f, f), strides=(1, 1), padding='same', name=conv_name_base + '2b', kernel_initializer=glorot_uniform(seed=0))(X)\n",
    "    X = BatchNormalization(axis=3, name=bn_name_base + '2b')(X)\n",
    "    X = Activation('relu')(X)\n",
    "\n",
    "    # Third component of main path (≈2 lines)\n",
    "    X = Conv2D(filters=F3, kernel_size=(1, 1), strides=(1, 1), padding='valid', name=conv_name_base + '2c', kernel_initializer=glorot_uniform(seed=0))(X)\n",
    "    X = BatchNormalization(axis=3, name=bn_name_base + '2c')(X)\n",
    "\n",
    "    ##### SHORTCUT PATH #### (≈2 lines)\n",
    "    X_shortcut = Conv2D(filters=F3, kernel_size=(1, 1), strides=(s, s), padding='valid', name=conv_name_base + '1', kernel_initializer=glorot_uniform(seed=0))(X_shortcut)\n",
    "    X_shortcut = BatchNormalization(axis=3, name=bn_name_base + '1')(X_shortcut)\n",
    "\n",
    "    # Final step: Add shortcut value to main path, and pass it through a RELU activation (≈2 lines)\n",
    "    X = Add()([X, X_shortcut])\n",
    "    X = Activation('relu')(X)\n",
    "    \n",
    "    ### END CODE HERE ###\n",
    "    \n",
    "    return X"
   ]
  },
  {
   "cell_type": "code",
   "execution_count": 5,
   "metadata": {},
   "outputs": [
    {
     "output_type": "stream",
     "name": "stdout",
     "text": "out = [0.09018461 1.2348977  0.46822017 0.0367176  0.         0.65516603]\n"
    }
   ],
   "source": [
    "tf.reset_default_graph()\n",
    "\n",
    "with tf.Session() as test:\n",
    "    np.random.seed(1)\n",
    "    A_prev = tf.placeholder(\"float\", [3, 4, 4, 6])\n",
    "    X = np.random.randn(3, 4, 4, 6)\n",
    "    A = convolutional_block(A_prev, f = 2, filters = [2, 4, 6], stage = 1, block = 'a')\n",
    "    test.run(tf.global_variables_initializer())\n",
    "    out = test.run([A], feed_dict={A_prev: X, K.learning_phase(): 0})\n",
    "    print(\"out = \" + str(out[0][1][1][0]))"
   ]
  },
  {
   "cell_type": "markdown",
   "metadata": {},
   "source": [
    "**Expected Output**:\n",
    "\n",
    "<table>\n",
    "    <tr>\n",
    "        <td>\n",
    "            **out**\n",
    "        </td>\n",
    "        <td>\n",
    "           [ 0.09018463  1.23489773  0.46822017  0.0367176   0.          0.65516603]\n",
    "        </td>\n",
    "    </tr>\n",
    "\n",
    "</table>"
   ]
  },
  {
   "cell_type": "markdown",
   "metadata": {},
   "source": [
    "## 3 - Building your first ResNet model (50 layers)\n",
    "\n",
    "You now have the necessary blocks to build a very deep ResNet. The following figure describes in detail the architecture of this neural network. \"ID BLOCK\" in the diagram stands for \"Identity block,\" and \"ID BLOCK x3\" means you should stack 3 identity blocks together.\n",
    "\n",
    "<img src=\"images/resnet_kiank.png\" style=\"width:850px;height:150px;\">\n",
    "<caption><center> <u> <font color='purple'> **Figure 5** </u><font color='purple'>  : **ResNet-50 model** </center></caption>\n",
    "\n",
    "The details of this ResNet-50 model are:\n",
    "- Zero-padding pads the input with a pad of (3,3)\n",
    "- Stage 1:\n",
    "    - The 2D Convolution has 64 filters of shape (7,7) and uses a stride of (2,2). Its name is \"conv1\".\n",
    "    - BatchNorm is applied to the 'channels' axis of the input.\n",
    "    - MaxPooling uses a (3,3) window and a (2,2) stride.\n",
    "- Stage 2:\n",
    "    - The convolutional block uses three sets of filters of size [64,64,256], \"f\" is 3, \"s\" is 1 and the block is \"a\".\n",
    "    - The 2 identity blocks use three sets of filters of size [64,64,256], \"f\" is 3 and the blocks are \"b\" and \"c\".\n",
    "- Stage 3:\n",
    "    - The convolutional block uses three sets of filters of size [128,128,512], \"f\" is 3, \"s\" is 2 and the block is \"a\".\n",
    "    - The 3 identity blocks use three sets of filters of size [128,128,512], \"f\" is 3 and the blocks are \"b\", \"c\" and \"d\".\n",
    "- Stage 4:\n",
    "    - The convolutional block uses three sets of filters of size [256, 256, 1024], \"f\" is 3, \"s\" is 2 and the block is \"a\".\n",
    "    - The 5 identity blocks use three sets of filters of size [256, 256, 1024], \"f\" is 3 and the blocks are \"b\", \"c\", \"d\", \"e\" and \"f\".\n",
    "- Stage 5:\n",
    "    - The convolutional block uses three sets of filters of size [512, 512, 2048], \"f\" is 3, \"s\" is 2 and the block is \"a\".\n",
    "    - The 2 identity blocks use three sets of filters of size [512, 512, 2048], \"f\" is 3 and the blocks are \"b\" and \"c\".\n",
    "- The 2D Average Pooling uses a window of shape (2,2) and its name is \"avg_pool\".\n",
    "- The 'flatten' layer doesn't have any hyperparameters or name.\n",
    "- The Fully Connected (Dense) layer reduces its input to the number of classes using a softmax activation. Its name should be `'fc' + str(classes)`.\n",
    "\n",
    "**Exercise**: Implement the ResNet with 50 layers described in the figure above. We have implemented Stages 1 and 2. Please implement the rest. (The syntax for implementing Stages 3-5 should be quite similar to that of Stage 2.) Make sure you follow the naming convention in the text above. \n",
    "\n",
    "You'll need to use this function: \n",
    "- Average pooling [see reference](https://keras.io/layers/pooling/#averagepooling2d)\n",
    "\n",
    "Here are some other functions we used in the code below:\n",
    "- Conv2D: [See reference](https://keras.io/layers/convolutional/#conv2d)\n",
    "- BatchNorm: [See reference](https://keras.io/layers/normalization/#batchnormalization) (axis: Integer, the axis that should be normalized (typically the features axis))\n",
    "- Zero padding: [See reference](https://keras.io/layers/convolutional/#zeropadding2d)\n",
    "- Max pooling: [See reference](https://keras.io/layers/pooling/#maxpooling2d)\n",
    "- Fully connected layer: [See reference](https://keras.io/layers/core/#dense)\n",
    "- Addition: [See reference](https://keras.io/layers/merge/#add)"
   ]
  },
  {
   "cell_type": "code",
   "execution_count": 6,
   "metadata": {
    "collapsed": true
   },
   "outputs": [],
   "source": [
    "# GRADED FUNCTION: ResNet50\n",
    "\n",
    "def ResNet50(input_shape = (64, 64, 3), classes = 6):\n",
    "    \"\"\"\n",
    "    Implementation of the popular ResNet50 the following architecture:\n",
    "    CONV2D -> BATCHNORM -> RELU -> MAXPOOL -> CONVBLOCK -> IDBLOCK*2 -> CONVBLOCK -> IDBLOCK*3\n",
    "    -> CONVBLOCK -> IDBLOCK*5 -> CONVBLOCK -> IDBLOCK*2 -> AVGPOOL -> TOPLAYER\n",
    "\n",
    "    Arguments:\n",
    "    input_shape -- shape of the images of the dataset\n",
    "    classes -- integer, number of classes\n",
    "\n",
    "    Returns:\n",
    "    model -- a Model() instance in Keras\n",
    "    \"\"\"\n",
    "    \n",
    "    # Define the input as a tensor with shape input_shape\n",
    "    X_input = Input(input_shape)\n",
    "\n",
    "    \n",
    "    # Zero-Padding\n",
    "    X = ZeroPadding2D((3, 3))(X_input)\n",
    "    \n",
    "    # Stage 1\n",
    "    X = Conv2D(64, (7, 7), strides = (2, 2), name = 'conv1', kernel_initializer = glorot_uniform(seed=0))(X)\n",
    "    X = BatchNormalization(axis = 3, name = 'bn_conv1')(X)\n",
    "    X = Activation('relu')(X)\n",
    "    X = MaxPooling2D((3, 3), strides=(2, 2))(X)\n",
    "\n",
    "    # Stage 2\n",
    "    X = convolutional_block(X, f = 3, filters = [64, 64, 256], stage = 2, block='a', s = 1)\n",
    "    X = identity_block(X, 3, [64, 64, 256], stage=2, block='b')\n",
    "    X = identity_block(X, 3, [64, 64, 256], stage=2, block='c')\n",
    "\n",
    "    ### START CODE HERE ###\n",
    "\n",
    "    # Stage 3 (≈4 lines)\n",
    "    X = convolutional_block(X, f=3, filters=[128, 128, 512], stage=3, block='a', s=2)\n",
    "    X = identity_block(X, 3, [128, 128, 512], stage=3, block='b')\n",
    "    X = identity_block(X, 3, [128, 128, 512], stage=3, block='c')\n",
    "    X = identity_block(X, 3, [128, 128, 512], stage=3, block='d')\n",
    "\n",
    "    # Stage 4 (≈6 lines)\n",
    "    X = convolutional_block(X, f=3, filters=[256, 256, 1024], stage=4, block='a', s=2)\n",
    "    X = identity_block(X, 3, [256, 256, 1024], stage=4, block='b')\n",
    "    X = identity_block(X, 3, [256, 256, 1024], stage=4, block='c')\n",
    "    X = identity_block(X, 3, [256, 256, 1024], stage=4, block='d')\n",
    "    X = identity_block(X, 3, [256, 256, 1024], stage=4, block='e')\n",
    "    X = identity_block(X, 3, [256, 256, 1024], stage=4, block='f')\n",
    "\n",
    "    # Stage 5 (≈3 lines)\n",
    "    X = X = convolutional_block(X, f=3, filters=[512, 512, 2048], stage=5, block='a', s=2)\n",
    "    X = identity_block(X, 3, [512, 512, 2048], stage=5, block='b')\n",
    "    X = identity_block(X, 3, [512, 512, 2048], stage=5, block='c')\n",
    "\n",
    "    # AVGPOOL (≈1 line). Use \"X = AveragePooling2D(...)(X)\"\n",
    "    X = AveragePooling2D(pool_size=(2, 2), padding='same')(X)\n",
    "    \n",
    "    ### END CODE HERE ###\n",
    "\n",
    "    # output layer\n",
    "    X = Flatten()(X)\n",
    "    X = Dense(classes, activation='softmax', name='fc' + str(classes), kernel_initializer = glorot_uniform(seed=0))(X)\n",
    "    \n",
    "    \n",
    "    # Create model\n",
    "    model = Model(inputs = X_input, outputs = X, name='ResNet50')\n",
    "\n",
    "    return model"
   ]
  },
  {
   "cell_type": "markdown",
   "metadata": {},
   "source": [
    "Run the following code to build the model's graph. If your implementation is not correct you will know it by checking your accuracy when running `model.fit(...)` below."
   ]
  },
  {
   "cell_type": "code",
   "execution_count": 7,
   "metadata": {
    "collapsed": true
   },
   "outputs": [],
   "source": [
    "model = ResNet50(input_shape = (64, 64, 3), classes = 6)"
   ]
  },
  {
   "cell_type": "markdown",
   "metadata": {},
   "source": [
    "As seen in the Keras Tutorial Notebook, prior training a model, you need to configure the learning process by compiling the model."
   ]
  },
  {
   "cell_type": "code",
   "execution_count": 8,
   "metadata": {
    "collapsed": true
   },
   "outputs": [],
   "source": [
    "model.compile(optimizer='adam', loss='categorical_crossentropy', metrics=['accuracy'])"
   ]
  },
  {
   "cell_type": "markdown",
   "metadata": {},
   "source": [
    "The model is now ready to be trained. The only thing you need is a dataset."
   ]
  },
  {
   "cell_type": "markdown",
   "metadata": {},
   "source": [
    "Let's load the SIGNS Dataset.\n",
    "\n",
    "<img src=\"images/signs_data_kiank.png\" style=\"width:450px;height:250px;\">\n",
    "<caption><center> <u> <font color='purple'> **Figure 6** </u><font color='purple'>  : **SIGNS dataset** </center></caption>\n"
   ]
  },
  {
   "cell_type": "code",
   "execution_count": 9,
   "metadata": {
    "scrolled": true
   },
   "outputs": [
    {
     "output_type": "stream",
     "name": "stdout",
     "text": "number of training examples = 1080\nnumber of test examples = 120\nX_train shape: (1080, 64, 64, 3)\nY_train shape: (1080, 6)\nX_test shape: (120, 64, 64, 3)\nY_test shape: (120, 6)\n"
    }
   ],
   "source": [
    "X_train_orig, Y_train_orig, X_test_orig, Y_test_orig, classes = load_dataset()\n",
    "\n",
    "# Normalize image vectors\n",
    "X_train = X_train_orig/255.\n",
    "X_test = X_test_orig/255.\n",
    "\n",
    "# Convert training and test labels to one hot matrices\n",
    "Y_train = convert_to_one_hot(Y_train_orig, 6).T\n",
    "Y_test = convert_to_one_hot(Y_test_orig, 6).T\n",
    "\n",
    "print (\"number of training examples = \" + str(X_train.shape[0]))\n",
    "print (\"number of test examples = \" + str(X_test.shape[0]))\n",
    "print (\"X_train shape: \" + str(X_train.shape))\n",
    "print (\"Y_train shape: \" + str(Y_train.shape))\n",
    "print (\"X_test shape: \" + str(X_test.shape))\n",
    "print (\"Y_test shape: \" + str(Y_test.shape))"
   ]
  },
  {
   "cell_type": "markdown",
   "metadata": {},
   "source": [
    "Run the following cell to train your model on 2 epochs with a batch size of 32. On a CPU it should take you around 5min per epoch. "
   ]
  },
  {
   "cell_type": "code",
   "execution_count": 10,
   "metadata": {
    "scrolled": false
   },
   "outputs": [
    {
     "output_type": "stream",
     "name": "stdout",
     "text": "Epoch 1/2\n1080/1080 [==============================] - 16s 15ms/step - loss: 1.6600 - accuracy: 0.4889\nEpoch 2/2\n1080/1080 [==============================] - 5s 4ms/step - loss: 0.4959 - accuracy: 0.8231\n"
    },
    {
     "output_type": "execute_result",
     "data": {
      "text/plain": "<keras.callbacks.callbacks.History at 0x2642654cac8>"
     },
     "metadata": {},
     "execution_count": 10
    }
   ],
   "source": [
    "model.fit(X_train, Y_train, epochs = 2, batch_size = 32)"
   ]
  },
  {
   "cell_type": "markdown",
   "metadata": {},
   "source": [
    "**Expected Output**:\n",
    "\n",
    "<table>\n",
    "    <tr>\n",
    "        <td>\n",
    "            ** Epoch 1/2**\n",
    "        </td>\n",
    "        <td>\n",
    "           loss: between 1 and 5, acc: between 0.2 and 0.5, although your results can be different from ours.\n",
    "        </td>\n",
    "    </tr>\n",
    "    <tr>\n",
    "        <td>\n",
    "            ** Epoch 2/2**\n",
    "        </td>\n",
    "        <td>\n",
    "           loss: between 1 and 5, acc: between 0.2 and 0.5, you should see your loss decreasing and the accuracy increasing.\n",
    "        </td>\n",
    "    </tr>\n",
    "\n",
    "</table>"
   ]
  },
  {
   "cell_type": "markdown",
   "metadata": {},
   "source": [
    "Let's see how this model (trained on only two epochs) performs on the test set."
   ]
  },
  {
   "cell_type": "code",
   "execution_count": 11,
   "metadata": {
    "collapsed": true,
    "scrolled": true
   },
   "outputs": [
    {
     "output_type": "stream",
     "name": "stdout",
     "text": "120/120 [==============================] - 1s 6ms/step\nLoss = 0.5050837020079295\nTest Accuracy = 0.8333333134651184\n"
    }
   ],
   "source": [
    "preds = model.evaluate(X_test, Y_test)\n",
    "print (\"Loss = \" + str(preds[0]))\n",
    "print (\"Test Accuracy = \" + str(preds[1]))"
   ]
  },
  {
   "cell_type": "markdown",
   "metadata": {},
   "source": [
    "**Expected Output**:\n",
    "\n",
    "<table>\n",
    "    <tr>\n",
    "        <td>\n",
    "            **Test Accuracy**\n",
    "        </td>\n",
    "        <td>\n",
    "           between 0.16 and 0.25\n",
    "        </td>\n",
    "    </tr>\n",
    "\n",
    "</table>"
   ]
  },
  {
   "cell_type": "markdown",
   "metadata": {},
   "source": [
    "For the purpose of this assignment, we've asked you to train the model for just two epochs. You can see that it achieves poor performances. Please go ahead and submit your assignment; to check correctness, the online grader will run your code only for a small number of epochs as well."
   ]
  },
  {
   "cell_type": "markdown",
   "metadata": {},
   "source": [
    "After you have finished this official (graded) part of this assignment, you can also optionally train the ResNet for more iterations, if you want. We get a lot better performance when we train for ~20 epochs, but this will take more than an hour when training on a CPU. \n",
    "\n",
    "Using a GPU, we've trained our own ResNet50 model's weights on the SIGNS dataset. You can load and run our trained model on the test set in the cells below. It may take ≈1min to load the model."
   ]
  },
  {
   "cell_type": "code",
   "execution_count": 12,
   "metadata": {
    "collapsed": true
   },
   "outputs": [],
   "source": [
    "model = load_model('ResNet50.h5') "
   ]
  },
  {
   "cell_type": "code",
   "execution_count": 13,
   "metadata": {
    "collapsed": true,
    "scrolled": true
   },
   "outputs": [
    {
     "output_type": "stream",
     "name": "stdout",
     "text": "120/120 [==============================] - 1s 6ms/step\nLoss = 0.1584112544854482\nTest Accuracy = 0.9416666626930237\n"
    }
   ],
   "source": [
    "preds = model.evaluate(X_test, Y_test)\n",
    "print (\"Loss = \" + str(preds[0]))\n",
    "print (\"Test Accuracy = \" + str(preds[1]))"
   ]
  },
  {
   "cell_type": "markdown",
   "metadata": {},
   "source": [
    "ResNet50 is a powerful model for image classification when it is trained for an adequate number of iterations. We hope you can use what you've learnt and apply it to your own classification problem to perform state-of-the-art accuracy.\n",
    "\n",
    "Congratulations on finishing this assignment! You've now implemented a state-of-the-art image classification system! "
   ]
  },
  {
   "cell_type": "markdown",
   "metadata": {},
   "source": [
    "## 4 - Test on your own image (Optional/Ungraded)"
   ]
  },
  {
   "cell_type": "markdown",
   "metadata": {},
   "source": [
    "If you wish, you can also take a picture of your own hand and see the output of the model. To do this:\n",
    "    1. Click on \"File\" in the upper bar of this notebook, then click \"Open\" to go on your Coursera Hub.\n",
    "    2. Add your image to this Jupyter Notebook's directory, in the \"images\" folder\n",
    "    3. Write your image's name in the following code\n",
    "    4. Run the code and check if the algorithm is right! "
   ]
  },
  {
   "cell_type": "code",
   "execution_count": 20,
   "metadata": {
    "collapsed": true
   },
   "outputs": [
    {
     "output_type": "stream",
     "name": "stdout",
     "text": "Input image shape: (1, 64, 64, 3)\nclass prediction vector [p(0), p(1), p(2), p(3), p(4), p(5)] = \n[[8.2312340e-01 4.3416934e-05 1.9900920e-03 1.7340328e-04 8.3500356e-04\n  1.7383470e-01]]\n"
    },
    {
     "output_type": "display_data",
     "data": {
      "text/plain": "<Figure size 432x288 with 1 Axes>",
      "image/svg+xml": "<?xml version=\"1.0\" encoding=\"utf-8\" standalone=\"no\"?>\r\n<!DOCTYPE svg PUBLIC \"-//W3C//DTD SVG 1.1//EN\"\r\n  \"http://www.w3.org/Graphics/SVG/1.1/DTD/svg11.dtd\">\r\n<!-- Created with matplotlib (https://matplotlib.org/) -->\r\n<svg height=\"250.618594pt\" version=\"1.1\" viewBox=\"0 0 251.565 250.618594\" width=\"251.565pt\" xmlns=\"http://www.w3.org/2000/svg\" xmlns:xlink=\"http://www.w3.org/1999/xlink\">\r\n <defs>\r\n  <style type=\"text/css\">\r\n*{stroke-linecap:butt;stroke-linejoin:round;}\r\n  </style>\r\n </defs>\r\n <g id=\"figure_1\">\r\n  <g id=\"patch_1\">\r\n   <path d=\"M 0 250.618594 \r\nL 251.565 250.618594 \r\nL 251.565 0 \r\nL 0 0 \r\nz\r\n\" style=\"fill:none;\"/>\r\n  </g>\r\n  <g id=\"axes_1\">\r\n   <g id=\"patch_2\">\r\n    <path d=\"M 26.925 226.740469 \r\nL 244.365 226.740469 \r\nL 244.365 9.300469 \r\nL 26.925 9.300469 \r\nz\r\n\" style=\"fill:#ffffff;\"/>\r\n   </g>\r\n   <g clip-path=\"url(#pf001965e8c)\">\r\n    <image height=\"218\" id=\"image877adfdbfc\" transform=\"scale(1 -1)translate(0 -218)\" width=\"218\" x=\"26.925\" xlink:href=\"data:image/png;base64,\r\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\" y=\"-8.740469\"/>\r\n   </g>\r\n   <g id=\"matplotlib.axis_1\">\r\n    <g id=\"xtick_1\">\r\n     <g id=\"line2d_1\">\r\n      <defs>\r\n       <path d=\"M 0 0 \r\nL 0 3.5 \r\n\" id=\"mc536b09c7e\" style=\"stroke:#000000;stroke-width:0.8;\"/>\r\n      </defs>\r\n      <g>\r\n       <use style=\"stroke:#000000;stroke-width:0.8;\" x=\"28.62375\" xlink:href=\"#mc536b09c7e\" y=\"226.740469\"/>\r\n      </g>\r\n     </g>\r\n     <g id=\"text_1\">\r\n      <!-- 0 -->\r\n      <defs>\r\n       <path d=\"M 31.78125 66.40625 \r\nQ 24.171875 66.40625 20.328125 58.90625 \r\nQ 16.5 51.421875 16.5 36.375 \r\nQ 16.5 21.390625 20.328125 13.890625 \r\nQ 24.171875 6.390625 31.78125 6.390625 \r\nQ 39.453125 6.390625 43.28125 13.890625 \r\nQ 47.125 21.390625 47.125 36.375 \r\nQ 47.125 51.421875 43.28125 58.90625 \r\nQ 39.453125 66.40625 31.78125 66.40625 \r\nz\r\nM 31.78125 74.21875 \r\nQ 44.046875 74.21875 50.515625 64.515625 \r\nQ 56.984375 54.828125 56.984375 36.375 \r\nQ 56.984375 17.96875 50.515625 8.265625 \r\nQ 44.046875 -1.421875 31.78125 -1.421875 \r\nQ 19.53125 -1.421875 13.0625 8.265625 \r\nQ 6.59375 17.96875 6.59375 36.375 \r\nQ 6.59375 54.828125 13.0625 64.515625 \r\nQ 19.53125 74.21875 31.78125 74.21875 \r\nz\r\n\" id=\"DejaVuSans-48\"/>\r\n      </defs>\r\n      <g transform=\"translate(25.4425 241.338906)scale(0.1 -0.1)\">\r\n       <use xlink:href=\"#DejaVuSans-48\"/>\r\n      </g>\r\n     </g>\r\n    </g>\r\n    <g id=\"xtick_2\">\r\n     <g id=\"line2d_2\">\r\n      <g>\r\n       <use style=\"stroke:#000000;stroke-width:0.8;\" x=\"62.59875\" xlink:href=\"#mc536b09c7e\" y=\"226.740469\"/>\r\n      </g>\r\n     </g>\r\n     <g id=\"text_2\">\r\n      <!-- 10 -->\r\n      <defs>\r\n       <path d=\"M 12.40625 8.296875 \r\nL 28.515625 8.296875 \r\nL 28.515625 63.921875 \r\nL 10.984375 60.40625 \r\nL 10.984375 69.390625 \r\nL 28.421875 72.90625 \r\nL 38.28125 72.90625 \r\nL 38.28125 8.296875 \r\nL 54.390625 8.296875 \r\nL 54.390625 0 \r\nL 12.40625 0 \r\nz\r\n\" id=\"DejaVuSans-49\"/>\r\n      </defs>\r\n      <g transform=\"translate(56.23625 241.338906)scale(0.1 -0.1)\">\r\n       <use xlink:href=\"#DejaVuSans-49\"/>\r\n       <use x=\"63.623047\" xlink:href=\"#DejaVuSans-48\"/>\r\n      </g>\r\n     </g>\r\n    </g>\r\n    <g id=\"xtick_3\">\r\n     <g id=\"line2d_3\">\r\n      <g>\r\n       <use style=\"stroke:#000000;stroke-width:0.8;\" x=\"96.57375\" xlink:href=\"#mc536b09c7e\" y=\"226.740469\"/>\r\n      </g>\r\n     </g>\r\n     <g id=\"text_3\">\r\n      <!-- 20 -->\r\n      <defs>\r\n       <path d=\"M 19.1875 8.296875 \r\nL 53.609375 8.296875 \r\nL 53.609375 0 \r\nL 7.328125 0 \r\nL 7.328125 8.296875 \r\nQ 12.9375 14.109375 22.625 23.890625 \r\nQ 32.328125 33.6875 34.8125 36.53125 \r\nQ 39.546875 41.84375 41.421875 45.53125 \r\nQ 43.3125 49.21875 43.3125 52.78125 \r\nQ 43.3125 58.59375 39.234375 62.25 \r\nQ 35.15625 65.921875 28.609375 65.921875 \r\nQ 23.96875 65.921875 18.8125 64.3125 \r\nQ 13.671875 62.703125 7.8125 59.421875 \r\nL 7.8125 69.390625 \r\nQ 13.765625 71.78125 18.9375 73 \r\nQ 24.125 74.21875 28.421875 74.21875 \r\nQ 39.75 74.21875 46.484375 68.546875 \r\nQ 53.21875 62.890625 53.21875 53.421875 \r\nQ 53.21875 48.921875 51.53125 44.890625 \r\nQ 49.859375 40.875 45.40625 35.40625 \r\nQ 44.1875 33.984375 37.640625 27.21875 \r\nQ 31.109375 20.453125 19.1875 8.296875 \r\nz\r\n\" id=\"DejaVuSans-50\"/>\r\n      </defs>\r\n      <g transform=\"translate(90.21125 241.338906)scale(0.1 -0.1)\">\r\n       <use xlink:href=\"#DejaVuSans-50\"/>\r\n       <use x=\"63.623047\" xlink:href=\"#DejaVuSans-48\"/>\r\n      </g>\r\n     </g>\r\n    </g>\r\n    <g id=\"xtick_4\">\r\n     <g id=\"line2d_4\">\r\n      <g>\r\n       <use style=\"stroke:#000000;stroke-width:0.8;\" x=\"130.54875\" xlink:href=\"#mc536b09c7e\" y=\"226.740469\"/>\r\n      </g>\r\n     </g>\r\n     <g id=\"text_4\">\r\n      <!-- 30 -->\r\n      <defs>\r\n       <path d=\"M 40.578125 39.3125 \r\nQ 47.65625 37.796875 51.625 33 \r\nQ 55.609375 28.21875 55.609375 21.1875 \r\nQ 55.609375 10.40625 48.1875 4.484375 \r\nQ 40.765625 -1.421875 27.09375 -1.421875 \r\nQ 22.515625 -1.421875 17.65625 -0.515625 \r\nQ 12.796875 0.390625 7.625 2.203125 \r\nL 7.625 11.71875 \r\nQ 11.71875 9.328125 16.59375 8.109375 \r\nQ 21.484375 6.890625 26.8125 6.890625 \r\nQ 36.078125 6.890625 40.9375 10.546875 \r\nQ 45.796875 14.203125 45.796875 21.1875 \r\nQ 45.796875 27.640625 41.28125 31.265625 \r\nQ 36.765625 34.90625 28.71875 34.90625 \r\nL 20.21875 34.90625 \r\nL 20.21875 43.015625 \r\nL 29.109375 43.015625 \r\nQ 36.375 43.015625 40.234375 45.921875 \r\nQ 44.09375 48.828125 44.09375 54.296875 \r\nQ 44.09375 59.90625 40.109375 62.90625 \r\nQ 36.140625 65.921875 28.71875 65.921875 \r\nQ 24.65625 65.921875 20.015625 65.03125 \r\nQ 15.375 64.15625 9.8125 62.3125 \r\nL 9.8125 71.09375 \r\nQ 15.4375 72.65625 20.34375 73.4375 \r\nQ 25.25 74.21875 29.59375 74.21875 \r\nQ 40.828125 74.21875 47.359375 69.109375 \r\nQ 53.90625 64.015625 53.90625 55.328125 \r\nQ 53.90625 49.265625 50.4375 45.09375 \r\nQ 46.96875 40.921875 40.578125 39.3125 \r\nz\r\n\" id=\"DejaVuSans-51\"/>\r\n      </defs>\r\n      <g transform=\"translate(124.18625 241.338906)scale(0.1 -0.1)\">\r\n       <use xlink:href=\"#DejaVuSans-51\"/>\r\n       <use x=\"63.623047\" xlink:href=\"#DejaVuSans-48\"/>\r\n      </g>\r\n     </g>\r\n    </g>\r\n    <g id=\"xtick_5\">\r\n     <g id=\"line2d_5\">\r\n      <g>\r\n       <use style=\"stroke:#000000;stroke-width:0.8;\" x=\"164.52375\" xlink:href=\"#mc536b09c7e\" y=\"226.740469\"/>\r\n      </g>\r\n     </g>\r\n     <g id=\"text_5\">\r\n      <!-- 40 -->\r\n      <defs>\r\n       <path d=\"M 37.796875 64.3125 \r\nL 12.890625 25.390625 \r\nL 37.796875 25.390625 \r\nz\r\nM 35.203125 72.90625 \r\nL 47.609375 72.90625 \r\nL 47.609375 25.390625 \r\nL 58.015625 25.390625 \r\nL 58.015625 17.1875 \r\nL 47.609375 17.1875 \r\nL 47.609375 0 \r\nL 37.796875 0 \r\nL 37.796875 17.1875 \r\nL 4.890625 17.1875 \r\nL 4.890625 26.703125 \r\nz\r\n\" id=\"DejaVuSans-52\"/>\r\n      </defs>\r\n      <g transform=\"translate(158.16125 241.338906)scale(0.1 -0.1)\">\r\n       <use xlink:href=\"#DejaVuSans-52\"/>\r\n       <use x=\"63.623047\" xlink:href=\"#DejaVuSans-48\"/>\r\n      </g>\r\n     </g>\r\n    </g>\r\n    <g id=\"xtick_6\">\r\n     <g id=\"line2d_6\">\r\n      <g>\r\n       <use style=\"stroke:#000000;stroke-width:0.8;\" x=\"198.49875\" xlink:href=\"#mc536b09c7e\" y=\"226.740469\"/>\r\n      </g>\r\n     </g>\r\n     <g id=\"text_6\">\r\n      <!-- 50 -->\r\n      <defs>\r\n       <path d=\"M 10.796875 72.90625 \r\nL 49.515625 72.90625 \r\nL 49.515625 64.59375 \r\nL 19.828125 64.59375 \r\nL 19.828125 46.734375 \r\nQ 21.96875 47.46875 24.109375 47.828125 \r\nQ 26.265625 48.1875 28.421875 48.1875 \r\nQ 40.625 48.1875 47.75 41.5 \r\nQ 54.890625 34.8125 54.890625 23.390625 \r\nQ 54.890625 11.625 47.5625 5.09375 \r\nQ 40.234375 -1.421875 26.90625 -1.421875 \r\nQ 22.3125 -1.421875 17.546875 -0.640625 \r\nQ 12.796875 0.140625 7.71875 1.703125 \r\nL 7.71875 11.625 \r\nQ 12.109375 9.234375 16.796875 8.0625 \r\nQ 21.484375 6.890625 26.703125 6.890625 \r\nQ 35.15625 6.890625 40.078125 11.328125 \r\nQ 45.015625 15.765625 45.015625 23.390625 \r\nQ 45.015625 31 40.078125 35.4375 \r\nQ 35.15625 39.890625 26.703125 39.890625 \r\nQ 22.75 39.890625 18.8125 39.015625 \r\nQ 14.890625 38.140625 10.796875 36.28125 \r\nz\r\n\" id=\"DejaVuSans-53\"/>\r\n      </defs>\r\n      <g transform=\"translate(192.13625 241.338906)scale(0.1 -0.1)\">\r\n       <use xlink:href=\"#DejaVuSans-53\"/>\r\n       <use x=\"63.623047\" xlink:href=\"#DejaVuSans-48\"/>\r\n      </g>\r\n     </g>\r\n    </g>\r\n    <g id=\"xtick_7\">\r\n     <g id=\"line2d_7\">\r\n      <g>\r\n       <use style=\"stroke:#000000;stroke-width:0.8;\" x=\"232.47375\" xlink:href=\"#mc536b09c7e\" y=\"226.740469\"/>\r\n      </g>\r\n     </g>\r\n     <g id=\"text_7\">\r\n      <!-- 60 -->\r\n      <defs>\r\n       <path d=\"M 33.015625 40.375 \r\nQ 26.375 40.375 22.484375 35.828125 \r\nQ 18.609375 31.296875 18.609375 23.390625 \r\nQ 18.609375 15.53125 22.484375 10.953125 \r\nQ 26.375 6.390625 33.015625 6.390625 \r\nQ 39.65625 6.390625 43.53125 10.953125 \r\nQ 47.40625 15.53125 47.40625 23.390625 \r\nQ 47.40625 31.296875 43.53125 35.828125 \r\nQ 39.65625 40.375 33.015625 40.375 \r\nz\r\nM 52.59375 71.296875 \r\nL 52.59375 62.3125 \r\nQ 48.875 64.0625 45.09375 64.984375 \r\nQ 41.3125 65.921875 37.59375 65.921875 \r\nQ 27.828125 65.921875 22.671875 59.328125 \r\nQ 17.53125 52.734375 16.796875 39.40625 \r\nQ 19.671875 43.65625 24.015625 45.921875 \r\nQ 28.375 48.1875 33.59375 48.1875 \r\nQ 44.578125 48.1875 50.953125 41.515625 \r\nQ 57.328125 34.859375 57.328125 23.390625 \r\nQ 57.328125 12.15625 50.6875 5.359375 \r\nQ 44.046875 -1.421875 33.015625 -1.421875 \r\nQ 20.359375 -1.421875 13.671875 8.265625 \r\nQ 6.984375 17.96875 6.984375 36.375 \r\nQ 6.984375 53.65625 15.1875 63.9375 \r\nQ 23.390625 74.21875 37.203125 74.21875 \r\nQ 40.921875 74.21875 44.703125 73.484375 \r\nQ 48.484375 72.75 52.59375 71.296875 \r\nz\r\n\" id=\"DejaVuSans-54\"/>\r\n      </defs>\r\n      <g transform=\"translate(226.11125 241.338906)scale(0.1 -0.1)\">\r\n       <use xlink:href=\"#DejaVuSans-54\"/>\r\n       <use x=\"63.623047\" xlink:href=\"#DejaVuSans-48\"/>\r\n      </g>\r\n     </g>\r\n    </g>\r\n   </g>\r\n   <g id=\"matplotlib.axis_2\">\r\n    <g id=\"ytick_1\">\r\n     <g id=\"line2d_8\">\r\n      <defs>\r\n       <path d=\"M 0 0 \r\nL -3.5 0 \r\n\" id=\"maf57c1f8a1\" style=\"stroke:#000000;stroke-width:0.8;\"/>\r\n      </defs>\r\n      <g>\r\n       <use style=\"stroke:#000000;stroke-width:0.8;\" x=\"26.925\" xlink:href=\"#maf57c1f8a1\" y=\"10.999219\"/>\r\n      </g>\r\n     </g>\r\n     <g id=\"text_8\">\r\n      <!-- 0 -->\r\n      <g transform=\"translate(13.5625 14.798437)scale(0.1 -0.1)\">\r\n       <use xlink:href=\"#DejaVuSans-48\"/>\r\n      </g>\r\n     </g>\r\n    </g>\r\n    <g id=\"ytick_2\">\r\n     <g id=\"line2d_9\">\r\n      <g>\r\n       <use style=\"stroke:#000000;stroke-width:0.8;\" x=\"26.925\" xlink:href=\"#maf57c1f8a1\" y=\"44.974219\"/>\r\n      </g>\r\n     </g>\r\n     <g id=\"text_9\">\r\n      <!-- 10 -->\r\n      <g transform=\"translate(7.2 48.773437)scale(0.1 -0.1)\">\r\n       <use xlink:href=\"#DejaVuSans-49\"/>\r\n       <use x=\"63.623047\" xlink:href=\"#DejaVuSans-48\"/>\r\n      </g>\r\n     </g>\r\n    </g>\r\n    <g id=\"ytick_3\">\r\n     <g id=\"line2d_10\">\r\n      <g>\r\n       <use style=\"stroke:#000000;stroke-width:0.8;\" x=\"26.925\" xlink:href=\"#maf57c1f8a1\" y=\"78.949219\"/>\r\n      </g>\r\n     </g>\r\n     <g id=\"text_10\">\r\n      <!-- 20 -->\r\n      <g transform=\"translate(7.2 82.748437)scale(0.1 -0.1)\">\r\n       <use xlink:href=\"#DejaVuSans-50\"/>\r\n       <use x=\"63.623047\" xlink:href=\"#DejaVuSans-48\"/>\r\n      </g>\r\n     </g>\r\n    </g>\r\n    <g id=\"ytick_4\">\r\n     <g id=\"line2d_11\">\r\n      <g>\r\n       <use style=\"stroke:#000000;stroke-width:0.8;\" x=\"26.925\" xlink:href=\"#maf57c1f8a1\" y=\"112.924219\"/>\r\n      </g>\r\n     </g>\r\n     <g id=\"text_11\">\r\n      <!-- 30 -->\r\n      <g transform=\"translate(7.2 116.723437)scale(0.1 -0.1)\">\r\n       <use xlink:href=\"#DejaVuSans-51\"/>\r\n       <use x=\"63.623047\" xlink:href=\"#DejaVuSans-48\"/>\r\n      </g>\r\n     </g>\r\n    </g>\r\n    <g id=\"ytick_5\">\r\n     <g id=\"line2d_12\">\r\n      <g>\r\n       <use style=\"stroke:#000000;stroke-width:0.8;\" x=\"26.925\" xlink:href=\"#maf57c1f8a1\" y=\"146.899219\"/>\r\n      </g>\r\n     </g>\r\n     <g id=\"text_12\">\r\n      <!-- 40 -->\r\n      <g transform=\"translate(7.2 150.698437)scale(0.1 -0.1)\">\r\n       <use xlink:href=\"#DejaVuSans-52\"/>\r\n       <use x=\"63.623047\" xlink:href=\"#DejaVuSans-48\"/>\r\n      </g>\r\n     </g>\r\n    </g>\r\n    <g id=\"ytick_6\">\r\n     <g id=\"line2d_13\">\r\n      <g>\r\n       <use style=\"stroke:#000000;stroke-width:0.8;\" x=\"26.925\" xlink:href=\"#maf57c1f8a1\" y=\"180.874219\"/>\r\n      </g>\r\n     </g>\r\n     <g id=\"text_13\">\r\n      <!-- 50 -->\r\n      <g transform=\"translate(7.2 184.673437)scale(0.1 -0.1)\">\r\n       <use xlink:href=\"#DejaVuSans-53\"/>\r\n       <use x=\"63.623047\" xlink:href=\"#DejaVuSans-48\"/>\r\n      </g>\r\n     </g>\r\n    </g>\r\n    <g id=\"ytick_7\">\r\n     <g id=\"line2d_14\">\r\n      <g>\r\n       <use style=\"stroke:#000000;stroke-width:0.8;\" x=\"26.925\" xlink:href=\"#maf57c1f8a1\" y=\"214.849219\"/>\r\n      </g>\r\n     </g>\r\n     <g id=\"text_14\">\r\n      <!-- 60 -->\r\n      <g transform=\"translate(7.2 218.648437)scale(0.1 -0.1)\">\r\n       <use xlink:href=\"#DejaVuSans-54\"/>\r\n       <use x=\"63.623047\" xlink:href=\"#DejaVuSans-48\"/>\r\n      </g>\r\n     </g>\r\n    </g>\r\n   </g>\r\n   <g id=\"patch_3\">\r\n    <path d=\"M 26.925 226.740469 \r\nL 26.925 9.300469 \r\n\" style=\"fill:none;stroke:#000000;stroke-linecap:square;stroke-linejoin:miter;stroke-width:0.8;\"/>\r\n   </g>\r\n   <g id=\"patch_4\">\r\n    <path d=\"M 244.365 226.740469 \r\nL 244.365 9.300469 \r\n\" style=\"fill:none;stroke:#000000;stroke-linecap:square;stroke-linejoin:miter;stroke-width:0.8;\"/>\r\n   </g>\r\n   <g id=\"patch_5\">\r\n    <path d=\"M 26.925 226.740469 \r\nL 244.365 226.740469 \r\n\" style=\"fill:none;stroke:#000000;stroke-linecap:square;stroke-linejoin:miter;stroke-width:0.8;\"/>\r\n   </g>\r\n   <g id=\"patch_6\">\r\n    <path d=\"M 26.925 9.300469 \r\nL 244.365 9.300469 \r\n\" style=\"fill:none;stroke:#000000;stroke-linecap:square;stroke-linejoin:miter;stroke-width:0.8;\"/>\r\n   </g>\r\n  </g>\r\n </g>\r\n <defs>\r\n  <clipPath id=\"pf001965e8c\">\r\n   <rect height=\"217.44\" width=\"217.44\" x=\"26.925\" y=\"9.300469\"/>\r\n  </clipPath>\r\n </defs>\r\n</svg>\r\n",
      "image/png": "[encoded data removed]"
     },
     "metadata": {
      "needs_background": "light"
     }
    }
   ],
   "source": [
    "img_path = 'images/my_image.jpg'\n",
    "img = image.load_img(img_path, target_size=(64, 64))\n",
    "x = image.img_to_array(img)\n",
    "x = np.expand_dims(x, axis=0)\n",
    "x = x/255.0\n",
    "\n",
    "imshow(img)\n",
    "print('Input image shape:', x.shape)\n",
    "print(\"class prediction vector [p(0), p(1), p(2), p(3), p(4), p(5)] = \")\n",
    "print(model.predict(x))\n",
    ""
   ]
  },
  {
   "cell_type": "markdown",
   "metadata": {},
   "source": [
    "You can also print a summary of your model by running the following code."
   ]
  },
  {
   "cell_type": "code",
   "execution_count": 21,
   "metadata": {
    "collapsed": true,
    "scrolled": true,
    "tags": [
     "outputPrepend"
    ]
   },
   "outputs": [
    {
     "output_type": "stream",
     "name": "stdout",
     "text": "][0]             \n__________________________________________________________________________________________________\nactivation_23 (Activation)      (None, 4, 4, 256)    0           bn4a_branch2a[0][0]              \n__________________________________________________________________________________________________\nres4a_branch2b (Conv2D)         (None, 4, 4, 256)    590080      activation_23[0][0]              \n__________________________________________________________________________________________________\nbn4a_branch2b (BatchNormalizati (None, 4, 4, 256)    1024        res4a_branch2b[0][0]             \n__________________________________________________________________________________________________\nactivation_24 (Activation)      (None, 4, 4, 256)    0           bn4a_branch2b[0][0]              \n__________________________________________________________________________________________________\nres4a_branch2c (Conv2D)         (None, 4, 4, 1024)   263168      activation_24[0][0]              \n__________________________________________________________________________________________________\nres4a_branch1 (Conv2D)          (None, 4, 4, 1024)   525312      activation_22[0][0]              \n__________________________________________________________________________________________________\nbn4a_branch2c (BatchNormalizati (None, 4, 4, 1024)   4096        res4a_branch2c[0][0]             \n__________________________________________________________________________________________________\nbn4a_branch1 (BatchNormalizatio (None, 4, 4, 1024)   4096        res4a_branch1[0][0]              \n__________________________________________________________________________________________________\nadd_8 (Add)                     (None, 4, 4, 1024)   0           bn4a_branch2c[0][0]              \n                                                                 bn4a_branch1[0][0]               \n__________________________________________________________________________________________________\nactivation_25 (Activation)      (None, 4, 4, 1024)   0           add_8[0][0]                      \n__________________________________________________________________________________________________\nres4b_branch2a (Conv2D)         (None, 4, 4, 256)    262400      activation_25[0][0]              \n__________________________________________________________________________________________________\nbn4b_branch2a (BatchNormalizati (None, 4, 4, 256)    1024        res4b_branch2a[0][0]             \n__________________________________________________________________________________________________\nactivation_26 (Activation)      (None, 4, 4, 256)    0           bn4b_branch2a[0][0]              \n__________________________________________________________________________________________________\nres4b_branch2b (Conv2D)         (None, 4, 4, 256)    590080      activation_26[0][0]              \n__________________________________________________________________________________________________\nbn4b_branch2b (BatchNormalizati (None, 4, 4, 256)    1024        res4b_branch2b[0][0]             \n__________________________________________________________________________________________________\nactivation_27 (Activation)      (None, 4, 4, 256)    0           bn4b_branch2b[0][0]              \n__________________________________________________________________________________________________\nres4b_branch2c (Conv2D)         (None, 4, 4, 1024)   263168      activation_27[0][0]              \n__________________________________________________________________________________________________\nbn4b_branch2c (BatchNormalizati (None, 4, 4, 1024)   4096        res4b_branch2c[0][0]             \n__________________________________________________________________________________________________\nadd_9 (Add)                     (None, 4, 4, 1024)   0           bn4b_branch2c[0][0]              \n                                                                 activation_25[0][0]              \n__________________________________________________________________________________________________\nactivation_28 (Activation)      (None, 4, 4, 1024)   0           add_9[0][0]                      \n__________________________________________________________________________________________________\nres4c_branch2a (Conv2D)         (None, 4, 4, 256)    262400      activation_28[0][0]              \n__________________________________________________________________________________________________\nbn4c_branch2a (BatchNormalizati (None, 4, 4, 256)    1024        res4c_branch2a[0][0]             \n__________________________________________________________________________________________________\nactivation_29 (Activation)      (None, 4, 4, 256)    0           bn4c_branch2a[0][0]              \n__________________________________________________________________________________________________\nres4c_branch2b (Conv2D)         (None, 4, 4, 256)    590080      activation_29[0][0]              \n__________________________________________________________________________________________________\nbn4c_branch2b (BatchNormalizati (None, 4, 4, 256)    1024        res4c_branch2b[0][0]             \n__________________________________________________________________________________________________\nactivation_30 (Activation)      (None, 4, 4, 256)    0           bn4c_branch2b[0][0]              \n__________________________________________________________________________________________________\nres4c_branch2c (Conv2D)         (None, 4, 4, 1024)   263168      activation_30[0][0]              \n__________________________________________________________________________________________________\nbn4c_branch2c (BatchNormalizati (None, 4, 4, 1024)   4096        res4c_branch2c[0][0]             \n__________________________________________________________________________________________________\nadd_10 (Add)                    (None, 4, 4, 1024)   0           bn4c_branch2c[0][0]              \n                                                                 activation_28[0][0]              \n__________________________________________________________________________________________________\nactivation_31 (Activation)      (None, 4, 4, 1024)   0           add_10[0][0]                     \n__________________________________________________________________________________________________\nres4d_branch2a (Conv2D)         (None, 4, 4, 256)    262400      activation_31[0][0]              \n__________________________________________________________________________________________________\nbn4d_branch2a (BatchNormalizati (None, 4, 4, 256)    1024        res4d_branch2a[0][0]             \n__________________________________________________________________________________________________\nactivation_32 (Activation)      (None, 4, 4, 256)    0           bn4d_branch2a[0][0]              \n__________________________________________________________________________________________________\nres4d_branch2b (Conv2D)         (None, 4, 4, 256)    590080      activation_32[0][0]              \n__________________________________________________________________________________________________\nbn4d_branch2b (BatchNormalizati (None, 4, 4, 256)    1024        res4d_branch2b[0][0]             \n__________________________________________________________________________________________________\nactivation_33 (Activation)      (None, 4, 4, 256)    0           bn4d_branch2b[0][0]              \n__________________________________________________________________________________________________\nres4d_branch2c (Conv2D)         (None, 4, 4, 1024)   263168      activation_33[0][0]              \n__________________________________________________________________________________________________\nbn4d_branch2c (BatchNormalizati (None, 4, 4, 1024)   4096        res4d_branch2c[0][0]             \n__________________________________________________________________________________________________\nadd_11 (Add)                    (None, 4, 4, 1024)   0           bn4d_branch2c[0][0]              \n                                                                 activation_31[0][0]              \n__________________________________________________________________________________________________\nactivation_34 (Activation)      (None, 4, 4, 1024)   0           add_11[0][0]                     \n__________________________________________________________________________________________________\nres4e_branch2a (Conv2D)         (None, 4, 4, 256)    262400      activation_34[0][0]              \n__________________________________________________________________________________________________\nbn4e_branch2a (BatchNormalizati (None, 4, 4, 256)    1024        res4e_branch2a[0][0]             \n__________________________________________________________________________________________________\nactivation_35 (Activation)      (None, 4, 4, 256)    0           bn4e_branch2a[0][0]              \n__________________________________________________________________________________________________\nres4e_branch2b (Conv2D)         (None, 4, 4, 256)    590080      activation_35[0][0]              \n__________________________________________________________________________________________________\nbn4e_branch2b (BatchNormalizati (None, 4, 4, 256)    1024        res4e_branch2b[0][0]             \n__________________________________________________________________________________________________\nactivation_36 (Activation)      (None, 4, 4, 256)    0           bn4e_branch2b[0][0]              \n__________________________________________________________________________________________________\nres4e_branch2c (Conv2D)         (None, 4, 4, 1024)   263168      activation_36[0][0]              \n__________________________________________________________________________________________________\nbn4e_branch2c (BatchNormalizati (None, 4, 4, 1024)   4096        res4e_branch2c[0][0]             \n__________________________________________________________________________________________________\nadd_12 (Add)                    (None, 4, 4, 1024)   0           bn4e_branch2c[0][0]              \n                                                                 activation_34[0][0]              \n__________________________________________________________________________________________________\nactivation_37 (Activation)      (None, 4, 4, 1024)   0           add_12[0][0]                     \n__________________________________________________________________________________________________\nres4f_branch2a (Conv2D)         (None, 4, 4, 256)    262400      activation_37[0][0]              \n__________________________________________________________________________________________________\nbn4f_branch2a (BatchNormalizati (None, 4, 4, 256)    1024        res4f_branch2a[0][0]             \n__________________________________________________________________________________________________\nactivation_38 (Activation)      (None, 4, 4, 256)    0           bn4f_branch2a[0][0]              \n__________________________________________________________________________________________________\nres4f_branch2b (Conv2D)         (None, 4, 4, 256)    590080      activation_38[0][0]              \n__________________________________________________________________________________________________\nbn4f_branch2b (BatchNormalizati (None, 4, 4, 256)    1024        res4f_branch2b[0][0]             \n__________________________________________________________________________________________________\nactivation_39 (Activation)      (None, 4, 4, 256)    0           bn4f_branch2b[0][0]              \n__________________________________________________________________________________________________\nres4f_branch2c (Conv2D)         (None, 4, 4, 1024)   263168      activation_39[0][0]              \n__________________________________________________________________________________________________\nbn4f_branch2c (BatchNormalizati (None, 4, 4, 1024)   4096        res4f_branch2c[0][0]             \n__________________________________________________________________________________________________\nadd_13 (Add)                    (None, 4, 4, 1024)   0           bn4f_branch2c[0][0]              \n                                                                 activation_37[0][0]              \n__________________________________________________________________________________________________\nactivation_40 (Activation)      (None, 4, 4, 1024)   0           add_13[0][0]                     \n__________________________________________________________________________________________________\nres5a_branch2a (Conv2D)         (None, 2, 2, 512)    524800      activation_40[0][0]              \n__________________________________________________________________________________________________\nbn5a_branch2a (BatchNormalizati (None, 2, 2, 512)    2048        res5a_branch2a[0][0]             \n__________________________________________________________________________________________________\nactivation_41 (Activation)      (None, 2, 2, 512)    0           bn5a_branch2a[0][0]              \n__________________________________________________________________________________________________\nres5a_branch2b (Conv2D)         (None, 2, 2, 512)    2359808     activation_41[0][0]              \n__________________________________________________________________________________________________\nbn5a_branch2b (BatchNormalizati (None, 2, 2, 512)    2048        res5a_branch2b[0][0]             \n__________________________________________________________________________________________________\nactivation_42 (Activation)      (None, 2, 2, 512)    0           bn5a_branch2b[0][0]              \n__________________________________________________________________________________________________\nres5a_branch2c (Conv2D)         (None, 2, 2, 2048)   1050624     activation_42[0][0]              \n__________________________________________________________________________________________________\nres5a_branch1 (Conv2D)          (None, 2, 2, 2048)   2099200     activation_40[0][0]              \n__________________________________________________________________________________________________\nbn5a_branch2c (BatchNormalizati (None, 2, 2, 2048)   8192        res5a_branch2c[0][0]             \n__________________________________________________________________________________________________\nbn5a_branch1 (BatchNormalizatio (None, 2, 2, 2048)   8192        res5a_branch1[0][0]              \n__________________________________________________________________________________________________\nadd_14 (Add)                    (None, 2, 2, 2048)   0           bn5a_branch2c[0][0]              \n                                                                 bn5a_branch1[0][0]               \n__________________________________________________________________________________________________\nactivation_43 (Activation)      (None, 2, 2, 2048)   0           add_14[0][0]                     \n__________________________________________________________________________________________________\nres5b_branch2a (Conv2D)         (None, 2, 2, 512)    1049088     activation_43[0][0]              \n__________________________________________________________________________________________________\nbn5b_branch2a (BatchNormalizati (None, 2, 2, 512)    2048        res5b_branch2a[0][0]             \n__________________________________________________________________________________________________\nactivation_44 (Activation)      (None, 2, 2, 512)    0           bn5b_branch2a[0][0]              \n__________________________________________________________________________________________________\nres5b_branch2b (Conv2D)         (None, 2, 2, 512)    2359808     activation_44[0][0]              \n__________________________________________________________________________________________________\nbn5b_branch2b (BatchNormalizati (None, 2, 2, 512)    2048        res5b_branch2b[0][0]             \n__________________________________________________________________________________________________\nactivation_45 (Activation)      (None, 2, 2, 512)    0           bn5b_branch2b[0][0]              \n__________________________________________________________________________________________________\nres5b_branch2c (Conv2D)         (None, 2, 2, 2048)   1050624     activation_45[0][0]              \n__________________________________________________________________________________________________\nbn5b_branch2c (BatchNormalizati (None, 2, 2, 2048)   8192        res5b_branch2c[0][0]             \n__________________________________________________________________________________________________\nadd_15 (Add)                    (None, 2, 2, 2048)   0           bn5b_branch2c[0][0]              \n                                                                 activation_43[0][0]              \n__________________________________________________________________________________________________\nactivation_46 (Activation)      (None, 2, 2, 2048)   0           add_15[0][0]                     \n__________________________________________________________________________________________________\nres5c_branch2a (Conv2D)         (None, 2, 2, 512)    1049088     activation_46[0][0]              \n__________________________________________________________________________________________________\nbn5c_branch2a (BatchNormalizati (None, 2, 2, 512)    2048        res5c_branch2a[0][0]             \n__________________________________________________________________________________________________\nactivation_47 (Activation)      (None, 2, 2, 512)    0           bn5c_branch2a[0][0]              \n__________________________________________________________________________________________________\nres5c_branch2b (Conv2D)         (None, 2, 2, 512)    2359808     activation_47[0][0]              \n__________________________________________________________________________________________________\nbn5c_branch2b (BatchNormalizati (None, 2, 2, 512)    2048        res5c_branch2b[0][0]             \n__________________________________________________________________________________________________\nactivation_48 (Activation)      (None, 2, 2, 512)    0           bn5c_branch2b[0][0]              \n__________________________________________________________________________________________________\nres5c_branch2c (Conv2D)         (None, 2, 2, 2048)   1050624     activation_48[0][0]              \n__________________________________________________________________________________________________\nbn5c_branch2c (BatchNormalizati (None, 2, 2, 2048)   8192        res5c_branch2c[0][0]             \n__________________________________________________________________________________________________\nadd_16 (Add)                    (None, 2, 2, 2048)   0           bn5c_branch2c[0][0]              \n                                                                 activation_46[0][0]              \n__________________________________________________________________________________________________\nactivation_49 (Activation)      (None, 2, 2, 2048)   0           add_16[0][0]                     \n__________________________________________________________________________________________________\naverage_pooling2d_1 (AveragePoo (None, 1, 1, 2048)   0           activation_49[0][0]              \n__________________________________________________________________________________________________\nflatten_1 (Flatten)             (None, 2048)         0           average_pooling2d_1[0][0]        \n__________________________________________________________________________________________________\nfc6 (Dense)                     (None, 6)            12294       flatten_1[0][0]                  \n==================================================================================================\nTotal params: 23,600,006\nTrainable params: 23,546,886\nNon-trainable params: 53,120\n__________________________________________________________________________________________________\n"
    }
   ],
   "source": [
    "model.summary()"
   ]
  },
  {
   "cell_type": "markdown",
   "metadata": {},
   "source": [
    "Finally, run the code below to visualize your ResNet50. You can also download a .png picture of your model by going to \"File -> Open...-> model.png\"."
   ]
  },
  {
   "cell_type": "code",
   "execution_count": null,
   "metadata": {
    "collapsed": true
   },
   "outputs": [],
   "source": [
    "plot_model(model, to_file='model.png')\n",
    "SVG(model_to_dot(model).create(prog='dot', format='svg'))"
   ]
  },
  {
   "cell_type": "markdown",
   "metadata": {},
   "source": [
    "## What you should remember\n",
    "- Very deep \"plain\" networks don't work in practice because they are hard to train due to vanishing gradients.  \n",
    "- The skip-connections help to address the Vanishing Gradient problem. They also make it easy for a ResNet block to learn an identity function. \n",
    "- There are two main types of blocks: The identity block and the convolutional block. \n",
    "- Very deep Residual Networks are built by stacking these blocks together."
   ]
  },
  {
   "cell_type": "markdown",
   "metadata": {},
   "source": [
    "### References \n",
    "\n",
    "This notebook presents the ResNet algorithm due to He et al. (2015). The implementation here also took significant inspiration and follows the structure given in the GitHub repository of Francois Chollet: \n",
    "\n",
    "- Kaiming He, Xiangyu Zhang, Shaoqing Ren, Jian Sun - [Deep Residual Learning for Image Recognition (2015)](https://arxiv.org/abs/1512.03385)\n",
    "- Francois Chollet's GitHub repository: https://github.com/fchollet/deep-learning-models/blob/master/resnet50.py\n"
   ]
  },
  {
   "cell_type": "code",
   "execution_count": null,
   "metadata": {
    "collapsed": true
   },
   "outputs": [],
   "source": []
  }
 ],
 "metadata": {
  "coursera": {
   "course_slug": "convolutional-neural-networks",
   "graded_item_id": "OEpi5",
   "launcher_item_id": "jK9EQ"
  },
  "kernelspec": {
   "display_name": "Python 3",
   "language": "python",
   "name": "python3"
  },
  "language_info": {
   "codemirror_mode": {
    "name": "ipython",
    "version": 3
   },
   "file_extension": ".py",
   "mimetype": "text/x-python",
   "name": "python",
   "nbconvert_exporter": "python",
   "pygments_lexer": "ipython3",
   "version": "3.7.7-final"
  }
 },
 "nbformat": 4,
 "nbformat_minor": 2
}